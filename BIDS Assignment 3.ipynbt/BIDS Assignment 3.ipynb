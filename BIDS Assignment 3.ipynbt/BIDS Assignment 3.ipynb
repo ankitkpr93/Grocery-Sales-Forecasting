{
 "cells": [
  {
   "cell_type": "markdown",
   "metadata": {},
   "source": [
    "# 1. Importing Libraries"
   ]
  },
  {
   "cell_type": "code",
   "execution_count": 1,
   "metadata": {},
   "outputs": [],
   "source": [
    "import numpy as np\n",
    "import pandas as pd\n",
    "import matplotlib.pyplot as plt\n",
    "import seaborn as sns\n",
    "%matplotlib inline\n",
    "sns.set(rc={'figure.figsize':(20,10)})\n",
    "import datetime\n",
    "from datetime import datetime\n",
    "import seaborn as sns\n",
    "import datetime\n",
    "now = datetime.datetime.now()\n",
    "from sklearn.model_selection import train_test_split"
   ]
  },
  {
   "cell_type": "markdown",
   "metadata": {},
   "source": [
    "# 2. Loading Data from Postgres and GUI"
   ]
  },
  {
   "cell_type": "code",
   "execution_count": 3,
   "metadata": {},
   "outputs": [
    {
     "name": "stderr",
     "output_type": "stream",
     "text": [
      "/anaconda3/lib/python3.6/site-packages/IPython/core/interactiveshell.py:2785: DtypeWarning: Columns (5) have mixed types. Specify dtype option on import or set low_memory=False.\n",
      "  interactivity=interactivity, compiler=compiler, result=result)\n"
     ]
    }
   ],
   "source": [
    "df=pd.read_csv('train.csv')"
   ]
  },
  {
   "cell_type": "code",
   "execution_count": 8,
   "metadata": {},
   "outputs": [
    {
     "data": {
      "text/plain": [
       "id                    0\n",
       "date                  0\n",
       "store_nbr             0\n",
       "item_nbr              0\n",
       "unit_sales            0\n",
       "onpromotion    21657651\n",
       "dtype: int64"
      ]
     },
     "execution_count": 8,
     "metadata": {},
     "output_type": "execute_result"
    }
   ],
   "source": [
    "df.isna().sum()"
   ]
  },
  {
   "cell_type": "code",
   "execution_count": 118,
   "metadata": {},
   "outputs": [
    {
     "data": {
      "text/plain": [
       "date           2013-01-01\n",
       "store_nbr              25\n",
       "item_nbr           103665\n",
       "unit_sales              7\n",
       "onpromotion           NaN\n",
       "Name: 0, dtype: object"
      ]
     },
     "execution_count": 118,
     "metadata": {},
     "output_type": "execute_result"
    }
   ],
   "source": [
    "df.iloc[0]"
   ]
  },
  {
   "cell_type": "code",
   "execution_count": 83,
   "metadata": {},
   "outputs": [],
   "source": [
    "item_number=103665\n",
    "#store_number=     #GUI inputs\n",
    "#on_promotion=\n",
    "#date="
   ]
  },
  {
   "cell_type": "code",
   "execution_count": 84,
   "metadata": {},
   "outputs": [],
   "source": [
    "#subset=pd.read_csv('item_108701.csv')\n",
    "subset=df.loc[df['item_nbr']==item_number]     #Load Data from Postgres according to GUI inputs"
   ]
  },
  {
   "cell_type": "markdown",
   "metadata": {},
   "source": [
    "# 3. Data Transformation and combining"
   ]
  },
  {
   "cell_type": "markdown",
   "metadata": {},
   "source": [
    "### 3.1 Holiday Dataset"
   ]
  },
  {
   "cell_type": "code",
   "execution_count": 85,
   "metadata": {},
   "outputs": [],
   "source": [
    "holiday=pd.read_csv('holidays_events.csv')\n",
    "holiday['type'] = pd.factorize(holiday['type'])[0]\n",
    "holiday['locale'] = pd.factorize(holiday['locale'])[0]  #loading and transforming Holiday dataset\n",
    "holiday['locale_name'] = pd.factorize(holiday['locale_name'])[0]\n",
    "holiday['holiday_status']=1\n",
    "#holiday.drop(['type','locale','locale_name'],inplace=True,axis=1)"
   ]
  },
  {
   "cell_type": "markdown",
   "metadata": {},
   "source": [
    "### 3.2 Stores Dataset"
   ]
  },
  {
   "cell_type": "code",
   "execution_count": 86,
   "metadata": {},
   "outputs": [],
   "source": [
    "stores=pd.read_csv('stores.csv')\n",
    "stores['city']=pd.factorize(stores['city'])[0]\n",
    "stores['state']=pd.factorize(stores['state'])[0]\n",
    "stores['type']=pd.factorize(stores['type'])[0]\n",
    "#stores.drop(['type','state','city'],inplace=True,axis=1)"
   ]
  },
  {
   "cell_type": "markdown",
   "metadata": {},
   "source": [
    "### 3.3 Items Dataset"
   ]
  },
  {
   "cell_type": "code",
   "execution_count": 87,
   "metadata": {},
   "outputs": [],
   "source": [
    "items=pd.read_csv('items.csv')\n",
    "items['family']=pd.factorize(items['family'])[0]"
   ]
  },
  {
   "cell_type": "markdown",
   "metadata": {},
   "source": [
    "### 3.4 Transformation"
   ]
  },
  {
   "cell_type": "code",
   "execution_count": 88,
   "metadata": {},
   "outputs": [
    {
     "name": "stderr",
     "output_type": "stream",
     "text": [
      "/anaconda3/lib/python3.6/site-packages/ipykernel_launcher.py:1: SettingWithCopyWarning: \n",
      "A value is trying to be set on a copy of a slice from a DataFrame.\n",
      "Try using .loc[row_indexer,col_indexer] = value instead\n",
      "\n",
      "See the caveats in the documentation: http://pandas.pydata.org/pandas-docs/stable/indexing.html#indexing-view-versus-copy\n",
      "  \"\"\"Entry point for launching an IPython kernel.\n",
      "/anaconda3/lib/python3.6/site-packages/ipykernel_launcher.py:2: SettingWithCopyWarning: \n",
      "A value is trying to be set on a copy of a slice from a DataFrame\n",
      "\n",
      "See the caveats in the documentation: http://pandas.pydata.org/pandas-docs/stable/indexing.html#indexing-view-versus-copy\n",
      "  \n"
     ]
    }
   ],
   "source": [
    "subset['onpromotion']=pd.factorize(subset['onpromotion'])[0]\n",
    "subset.dropna(inplace=True,axis=0,how='any')"
   ]
  },
  {
   "cell_type": "markdown",
   "metadata": {},
   "source": [
    "### 3.5 Converting Date into number of days"
   ]
  },
  {
   "cell_type": "code",
   "execution_count": 89,
   "metadata": {},
   "outputs": [],
   "source": [
    "current_year=now.year\n",
    "current_month=now.month\n",
    "current_day=now.day"
   ]
  },
  {
   "cell_type": "markdown",
   "metadata": {},
   "source": [
    "#### 3.5.1Subset Date to Duration"
   ]
  },
  {
   "cell_type": "code",
   "execution_count": 90,
   "metadata": {},
   "outputs": [
    {
     "name": "stderr",
     "output_type": "stream",
     "text": [
      "/anaconda3/lib/python3.6/site-packages/ipykernel_launcher.py:1: SettingWithCopyWarning: \n",
      "A value is trying to be set on a copy of a slice from a DataFrame.\n",
      "Try using .loc[row_indexer,col_indexer] = value instead\n",
      "\n",
      "See the caveats in the documentation: http://pandas.pydata.org/pandas-docs/stable/indexing.html#indexing-view-versus-copy\n",
      "  \"\"\"Entry point for launching an IPython kernel.\n",
      "/anaconda3/lib/python3.6/site-packages/ipykernel_launcher.py:5: SettingWithCopyWarning: \n",
      "A value is trying to be set on a copy of a slice from a DataFrame.\n",
      "Try using .loc[row_indexer,col_indexer] = value instead\n",
      "\n",
      "See the caveats in the documentation: http://pandas.pydata.org/pandas-docs/stable/indexing.html#indexing-view-versus-copy\n",
      "  \"\"\"\n",
      "/anaconda3/lib/python3.6/site-packages/pandas/core/frame.py:3694: SettingWithCopyWarning: \n",
      "A value is trying to be set on a copy of a slice from a DataFrame\n",
      "\n",
      "See the caveats in the documentation: http://pandas.pydata.org/pandas-docs/stable/indexing.html#indexing-view-versus-copy\n",
      "  errors=errors)\n"
     ]
    }
   ],
   "source": [
    "subset['date'] = pd.to_datetime(subset['date'], format = '%Y-%m-%d')   #transforming date Column\n",
    "subset_year = subset['date'].dt.year\n",
    "subset_month = subset['date'].dt.month\n",
    "subset_day = subset['date'].dt.day\n",
    "subset['Duration'] = ((current_year * 365) + (current_month * 30) + current_day) - ((subset_year*365) + (subset_month*30) + subset_day)\n",
    "subset.drop('date',axis=1,inplace=True)"
   ]
  },
  {
   "cell_type": "markdown",
   "metadata": {},
   "source": [
    "#### 3.5.2 Holiday Date to Duration"
   ]
  },
  {
   "cell_type": "code",
   "execution_count": 91,
   "metadata": {},
   "outputs": [],
   "source": [
    "holiday['date'] = pd.to_datetime(holiday['date'], format = '%d/%m/%Y')   #transforming date Column\n",
    "holiday_year = holiday['date'].dt.year\n",
    "holiday_month = holiday['date'].dt.month\n",
    "holiday_day = holiday['date'].dt.day\n",
    "holiday['Duration'] = ((current_year * 365) + (current_month * 30) + current_day) - ((holiday_year*365) + (holiday_month*30) + holiday_day)\n",
    "holiday.drop('date',axis=1,inplace=True)"
   ]
  },
  {
   "cell_type": "markdown",
   "metadata": {},
   "source": [
    "### 3.6 Joining datasets"
   ]
  },
  {
   "cell_type": "code",
   "execution_count": 92,
   "metadata": {},
   "outputs": [],
   "source": [
    "#subset=subset.merge(holiday, left_on='Duration', right_on='Duration', how='left')\n",
    "#subset=subset.merge(stores, left_on='store_nbr', right_on='store_nbr', how='left')\n",
    "#subset=subset.merge(items, left_on='item_nbr', right_on='item_nbr', how='left')"
   ]
  },
  {
   "cell_type": "code",
   "execution_count": 93,
   "metadata": {
    "scrolled": true
   },
   "outputs": [
    {
     "name": "stderr",
     "output_type": "stream",
     "text": [
      "/anaconda3/lib/python3.6/site-packages/pandas/core/frame.py:3787: SettingWithCopyWarning: \n",
      "A value is trying to be set on a copy of a slice from a DataFrame\n",
      "\n",
      "See the caveats in the documentation: http://pandas.pydata.org/pandas-docs/stable/indexing.html#indexing-view-versus-copy\n",
      "  downcast=downcast, **kwargs)\n"
     ]
    }
   ],
   "source": [
    "subset.fillna('99',inplace=True)\n",
    "#subset.drop('Unnamed: 0',axis=1,inplace=True)"
   ]
  },
  {
   "cell_type": "code",
   "execution_count": 94,
   "metadata": {},
   "outputs": [
    {
     "data": {
      "text/html": [
       "<div>\n",
       "<style scoped>\n",
       "    .dataframe tbody tr th:only-of-type {\n",
       "        vertical-align: middle;\n",
       "    }\n",
       "\n",
       "    .dataframe tbody tr th {\n",
       "        vertical-align: top;\n",
       "    }\n",
       "\n",
       "    .dataframe thead th {\n",
       "        text-align: right;\n",
       "    }\n",
       "</style>\n",
       "<table border=\"1\" class=\"dataframe\">\n",
       "  <thead>\n",
       "    <tr style=\"text-align: right;\">\n",
       "      <th></th>\n",
       "      <th>id</th>\n",
       "      <th>store_nbr</th>\n",
       "      <th>item_nbr</th>\n",
       "      <th>unit_sales</th>\n",
       "      <th>onpromotion</th>\n",
       "      <th>Duration</th>\n",
       "    </tr>\n",
       "  </thead>\n",
       "  <tbody>\n",
       "    <tr>\n",
       "      <th>0</th>\n",
       "      <td>0</td>\n",
       "      <td>25</td>\n",
       "      <td>103665</td>\n",
       "      <td>7.0</td>\n",
       "      <td>-1</td>\n",
       "      <td>2103</td>\n",
       "    </tr>\n",
       "    <tr>\n",
       "      <th>578</th>\n",
       "      <td>578</td>\n",
       "      <td>1</td>\n",
       "      <td>103665</td>\n",
       "      <td>2.0</td>\n",
       "      <td>-1</td>\n",
       "      <td>2102</td>\n",
       "    </tr>\n",
       "    <tr>\n",
       "      <th>1596</th>\n",
       "      <td>1596</td>\n",
       "      <td>2</td>\n",
       "      <td>103665</td>\n",
       "      <td>5.0</td>\n",
       "      <td>-1</td>\n",
       "      <td>2102</td>\n",
       "    </tr>\n",
       "    <tr>\n",
       "      <th>2699</th>\n",
       "      <td>2699</td>\n",
       "      <td>3</td>\n",
       "      <td>103665</td>\n",
       "      <td>6.0</td>\n",
       "      <td>-1</td>\n",
       "      <td>2102</td>\n",
       "    </tr>\n",
       "    <tr>\n",
       "      <th>3900</th>\n",
       "      <td>3900</td>\n",
       "      <td>4</td>\n",
       "      <td>103665</td>\n",
       "      <td>2.0</td>\n",
       "      <td>-1</td>\n",
       "      <td>2102</td>\n",
       "    </tr>\n",
       "    <tr>\n",
       "      <th>4949</th>\n",
       "      <td>4949</td>\n",
       "      <td>5</td>\n",
       "      <td>103665</td>\n",
       "      <td>9.0</td>\n",
       "      <td>-1</td>\n",
       "      <td>2102</td>\n",
       "    </tr>\n",
       "    <tr>\n",
       "      <th>5984</th>\n",
       "      <td>5984</td>\n",
       "      <td>6</td>\n",
       "      <td>103665</td>\n",
       "      <td>6.0</td>\n",
       "      <td>-1</td>\n",
       "      <td>2102</td>\n",
       "    </tr>\n",
       "    <tr>\n",
       "      <th>7109</th>\n",
       "      <td>7109</td>\n",
       "      <td>7</td>\n",
       "      <td>103665</td>\n",
       "      <td>4.0</td>\n",
       "      <td>-1</td>\n",
       "      <td>2102</td>\n",
       "    </tr>\n",
       "    <tr>\n",
       "      <th>8187</th>\n",
       "      <td>8187</td>\n",
       "      <td>8</td>\n",
       "      <td>103665</td>\n",
       "      <td>6.0</td>\n",
       "      <td>-1</td>\n",
       "      <td>2102</td>\n",
       "    </tr>\n",
       "    <tr>\n",
       "      <th>9391</th>\n",
       "      <td>9391</td>\n",
       "      <td>9</td>\n",
       "      <td>103665</td>\n",
       "      <td>12.0</td>\n",
       "      <td>-1</td>\n",
       "      <td>2102</td>\n",
       "    </tr>\n",
       "    <tr>\n",
       "      <th>11088</th>\n",
       "      <td>11088</td>\n",
       "      <td>11</td>\n",
       "      <td>103665</td>\n",
       "      <td>3.0</td>\n",
       "      <td>-1</td>\n",
       "      <td>2102</td>\n",
       "    </tr>\n",
       "    <tr>\n",
       "      <th>16281</th>\n",
       "      <td>16281</td>\n",
       "      <td>18</td>\n",
       "      <td>103665</td>\n",
       "      <td>3.0</td>\n",
       "      <td>-1</td>\n",
       "      <td>2102</td>\n",
       "    </tr>\n",
       "    <tr>\n",
       "      <th>17871</th>\n",
       "      <td>17871</td>\n",
       "      <td>23</td>\n",
       "      <td>103665</td>\n",
       "      <td>3.0</td>\n",
       "      <td>-1</td>\n",
       "      <td>2102</td>\n",
       "    </tr>\n",
       "    <tr>\n",
       "      <th>18789</th>\n",
       "      <td>18789</td>\n",
       "      <td>24</td>\n",
       "      <td>103665</td>\n",
       "      <td>6.0</td>\n",
       "      <td>-1</td>\n",
       "      <td>2102</td>\n",
       "    </tr>\n",
       "    <tr>\n",
       "      <th>19811</th>\n",
       "      <td>19811</td>\n",
       "      <td>25</td>\n",
       "      <td>103665</td>\n",
       "      <td>5.0</td>\n",
       "      <td>-1</td>\n",
       "      <td>2102</td>\n",
       "    </tr>\n",
       "    <tr>\n",
       "      <th>20625</th>\n",
       "      <td>20625</td>\n",
       "      <td>26</td>\n",
       "      <td>103665</td>\n",
       "      <td>1.0</td>\n",
       "      <td>-1</td>\n",
       "      <td>2102</td>\n",
       "    </tr>\n",
       "    <tr>\n",
       "      <th>21400</th>\n",
       "      <td>21400</td>\n",
       "      <td>27</td>\n",
       "      <td>103665</td>\n",
       "      <td>7.0</td>\n",
       "      <td>-1</td>\n",
       "      <td>2102</td>\n",
       "    </tr>\n",
       "    <tr>\n",
       "      <th>22334</th>\n",
       "      <td>22334</td>\n",
       "      <td>28</td>\n",
       "      <td>103665</td>\n",
       "      <td>3.0</td>\n",
       "      <td>-1</td>\n",
       "      <td>2102</td>\n",
       "    </tr>\n",
       "    <tr>\n",
       "      <th>23741</th>\n",
       "      <td>23741</td>\n",
       "      <td>31</td>\n",
       "      <td>103665</td>\n",
       "      <td>3.0</td>\n",
       "      <td>-1</td>\n",
       "      <td>2102</td>\n",
       "    </tr>\n",
       "    <tr>\n",
       "      <th>25749</th>\n",
       "      <td>25749</td>\n",
       "      <td>34</td>\n",
       "      <td>103665</td>\n",
       "      <td>2.0</td>\n",
       "      <td>-1</td>\n",
       "      <td>2102</td>\n",
       "    </tr>\n",
       "    <tr>\n",
       "      <th>27139</th>\n",
       "      <td>27139</td>\n",
       "      <td>37</td>\n",
       "      <td>103665</td>\n",
       "      <td>5.0</td>\n",
       "      <td>-1</td>\n",
       "      <td>2102</td>\n",
       "    </tr>\n",
       "    <tr>\n",
       "      <th>28203</th>\n",
       "      <td>28203</td>\n",
       "      <td>38</td>\n",
       "      <td>103665</td>\n",
       "      <td>6.0</td>\n",
       "      <td>-1</td>\n",
       "      <td>2102</td>\n",
       "    </tr>\n",
       "    <tr>\n",
       "      <th>29181</th>\n",
       "      <td>29181</td>\n",
       "      <td>39</td>\n",
       "      <td>103665</td>\n",
       "      <td>6.0</td>\n",
       "      <td>-1</td>\n",
       "      <td>2102</td>\n",
       "    </tr>\n",
       "    <tr>\n",
       "      <th>32293</th>\n",
       "      <td>32293</td>\n",
       "      <td>44</td>\n",
       "      <td>103665</td>\n",
       "      <td>20.0</td>\n",
       "      <td>-1</td>\n",
       "      <td>2102</td>\n",
       "    </tr>\n",
       "    <tr>\n",
       "      <th>33547</th>\n",
       "      <td>33547</td>\n",
       "      <td>45</td>\n",
       "      <td>103665</td>\n",
       "      <td>8.0</td>\n",
       "      <td>-1</td>\n",
       "      <td>2102</td>\n",
       "    </tr>\n",
       "    <tr>\n",
       "      <th>34779</th>\n",
       "      <td>34779</td>\n",
       "      <td>46</td>\n",
       "      <td>103665</td>\n",
       "      <td>7.0</td>\n",
       "      <td>-1</td>\n",
       "      <td>2102</td>\n",
       "    </tr>\n",
       "    <tr>\n",
       "      <th>35958</th>\n",
       "      <td>35958</td>\n",
       "      <td>47</td>\n",
       "      <td>103665</td>\n",
       "      <td>11.0</td>\n",
       "      <td>-1</td>\n",
       "      <td>2102</td>\n",
       "    </tr>\n",
       "    <tr>\n",
       "      <th>37167</th>\n",
       "      <td>37167</td>\n",
       "      <td>48</td>\n",
       "      <td>103665</td>\n",
       "      <td>10.0</td>\n",
       "      <td>-1</td>\n",
       "      <td>2102</td>\n",
       "    </tr>\n",
       "    <tr>\n",
       "      <th>38289</th>\n",
       "      <td>38289</td>\n",
       "      <td>49</td>\n",
       "      <td>103665</td>\n",
       "      <td>4.0</td>\n",
       "      <td>-1</td>\n",
       "      <td>2102</td>\n",
       "    </tr>\n",
       "    <tr>\n",
       "      <th>39450</th>\n",
       "      <td>39450</td>\n",
       "      <td>50</td>\n",
       "      <td>103665</td>\n",
       "      <td>6.0</td>\n",
       "      <td>-1</td>\n",
       "      <td>2102</td>\n",
       "    </tr>\n",
       "    <tr>\n",
       "      <th>...</th>\n",
       "      <td>...</td>\n",
       "      <td>...</td>\n",
       "      <td>...</td>\n",
       "      <td>...</td>\n",
       "      <td>...</td>\n",
       "      <td>...</td>\n",
       "    </tr>\n",
       "    <tr>\n",
       "      <th>125396213</th>\n",
       "      <td>125396213</td>\n",
       "      <td>2</td>\n",
       "      <td>103665</td>\n",
       "      <td>5.0</td>\n",
       "      <td>0</td>\n",
       "      <td>419</td>\n",
       "    </tr>\n",
       "    <tr>\n",
       "      <th>125398301</th>\n",
       "      <td>125398301</td>\n",
       "      <td>3</td>\n",
       "      <td>103665</td>\n",
       "      <td>1.0</td>\n",
       "      <td>0</td>\n",
       "      <td>419</td>\n",
       "    </tr>\n",
       "    <tr>\n",
       "      <th>125400909</th>\n",
       "      <td>125400909</td>\n",
       "      <td>4</td>\n",
       "      <td>103665</td>\n",
       "      <td>2.0</td>\n",
       "      <td>0</td>\n",
       "      <td>419</td>\n",
       "    </tr>\n",
       "    <tr>\n",
       "      <th>125402925</th>\n",
       "      <td>125402925</td>\n",
       "      <td>5</td>\n",
       "      <td>103665</td>\n",
       "      <td>3.0</td>\n",
       "      <td>0</td>\n",
       "      <td>419</td>\n",
       "    </tr>\n",
       "    <tr>\n",
       "      <th>125411792</th>\n",
       "      <td>125411792</td>\n",
       "      <td>9</td>\n",
       "      <td>103665</td>\n",
       "      <td>3.0</td>\n",
       "      <td>0</td>\n",
       "      <td>419</td>\n",
       "    </tr>\n",
       "    <tr>\n",
       "      <th>125415321</th>\n",
       "      <td>125415321</td>\n",
       "      <td>11</td>\n",
       "      <td>103665</td>\n",
       "      <td>2.0</td>\n",
       "      <td>0</td>\n",
       "      <td>419</td>\n",
       "    </tr>\n",
       "    <tr>\n",
       "      <th>125424317</th>\n",
       "      <td>125424317</td>\n",
       "      <td>17</td>\n",
       "      <td>103665</td>\n",
       "      <td>1.0</td>\n",
       "      <td>0</td>\n",
       "      <td>419</td>\n",
       "    </tr>\n",
       "    <tr>\n",
       "      <th>125429455</th>\n",
       "      <td>125429455</td>\n",
       "      <td>20</td>\n",
       "      <td>103665</td>\n",
       "      <td>1.0</td>\n",
       "      <td>0</td>\n",
       "      <td>419</td>\n",
       "    </tr>\n",
       "    <tr>\n",
       "      <th>125434777</th>\n",
       "      <td>125434777</td>\n",
       "      <td>23</td>\n",
       "      <td>103665</td>\n",
       "      <td>1.0</td>\n",
       "      <td>0</td>\n",
       "      <td>419</td>\n",
       "    </tr>\n",
       "    <tr>\n",
       "      <th>125436452</th>\n",
       "      <td>125436452</td>\n",
       "      <td>24</td>\n",
       "      <td>103665</td>\n",
       "      <td>5.0</td>\n",
       "      <td>0</td>\n",
       "      <td>419</td>\n",
       "    </tr>\n",
       "    <tr>\n",
       "      <th>125438641</th>\n",
       "      <td>125438641</td>\n",
       "      <td>25</td>\n",
       "      <td>103665</td>\n",
       "      <td>1.0</td>\n",
       "      <td>0</td>\n",
       "      <td>419</td>\n",
       "    </tr>\n",
       "    <tr>\n",
       "      <th>125441389</th>\n",
       "      <td>125441389</td>\n",
       "      <td>27</td>\n",
       "      <td>103665</td>\n",
       "      <td>1.0</td>\n",
       "      <td>0</td>\n",
       "      <td>419</td>\n",
       "    </tr>\n",
       "    <tr>\n",
       "      <th>125443445</th>\n",
       "      <td>125443445</td>\n",
       "      <td>28</td>\n",
       "      <td>103665</td>\n",
       "      <td>2.0</td>\n",
       "      <td>0</td>\n",
       "      <td>419</td>\n",
       "    </tr>\n",
       "    <tr>\n",
       "      <th>125445417</th>\n",
       "      <td>125445417</td>\n",
       "      <td>29</td>\n",
       "      <td>103665</td>\n",
       "      <td>6.0</td>\n",
       "      <td>0</td>\n",
       "      <td>419</td>\n",
       "    </tr>\n",
       "    <tr>\n",
       "      <th>125448705</th>\n",
       "      <td>125448705</td>\n",
       "      <td>31</td>\n",
       "      <td>103665</td>\n",
       "      <td>1.0</td>\n",
       "      <td>0</td>\n",
       "      <td>419</td>\n",
       "    </tr>\n",
       "    <tr>\n",
       "      <th>125453056</th>\n",
       "      <td>125453056</td>\n",
       "      <td>34</td>\n",
       "      <td>103665</td>\n",
       "      <td>1.0</td>\n",
       "      <td>0</td>\n",
       "      <td>419</td>\n",
       "    </tr>\n",
       "    <tr>\n",
       "      <th>125455878</th>\n",
       "      <td>125455878</td>\n",
       "      <td>36</td>\n",
       "      <td>103665</td>\n",
       "      <td>1.0</td>\n",
       "      <td>0</td>\n",
       "      <td>419</td>\n",
       "    </tr>\n",
       "    <tr>\n",
       "      <th>125457737</th>\n",
       "      <td>125457737</td>\n",
       "      <td>37</td>\n",
       "      <td>103665</td>\n",
       "      <td>2.0</td>\n",
       "      <td>0</td>\n",
       "      <td>419</td>\n",
       "    </tr>\n",
       "    <tr>\n",
       "      <th>125459837</th>\n",
       "      <td>125459837</td>\n",
       "      <td>38</td>\n",
       "      <td>103665</td>\n",
       "      <td>2.0</td>\n",
       "      <td>0</td>\n",
       "      <td>419</td>\n",
       "    </tr>\n",
       "    <tr>\n",
       "      <th>125461840</th>\n",
       "      <td>125461840</td>\n",
       "      <td>39</td>\n",
       "      <td>103665</td>\n",
       "      <td>7.0</td>\n",
       "      <td>0</td>\n",
       "      <td>419</td>\n",
       "    </tr>\n",
       "    <tr>\n",
       "      <th>125465526</th>\n",
       "      <td>125465526</td>\n",
       "      <td>41</td>\n",
       "      <td>103665</td>\n",
       "      <td>4.0</td>\n",
       "      <td>0</td>\n",
       "      <td>419</td>\n",
       "    </tr>\n",
       "    <tr>\n",
       "      <th>125467420</th>\n",
       "      <td>125467420</td>\n",
       "      <td>42</td>\n",
       "      <td>103665</td>\n",
       "      <td>5.0</td>\n",
       "      <td>0</td>\n",
       "      <td>419</td>\n",
       "    </tr>\n",
       "    <tr>\n",
       "      <th>125471187</th>\n",
       "      <td>125471187</td>\n",
       "      <td>44</td>\n",
       "      <td>103665</td>\n",
       "      <td>8.0</td>\n",
       "      <td>0</td>\n",
       "      <td>419</td>\n",
       "    </tr>\n",
       "    <tr>\n",
       "      <th>125473879</th>\n",
       "      <td>125473879</td>\n",
       "      <td>45</td>\n",
       "      <td>103665</td>\n",
       "      <td>2.0</td>\n",
       "      <td>0</td>\n",
       "      <td>419</td>\n",
       "    </tr>\n",
       "    <tr>\n",
       "      <th>125479168</th>\n",
       "      <td>125479168</td>\n",
       "      <td>47</td>\n",
       "      <td>103665</td>\n",
       "      <td>3.0</td>\n",
       "      <td>0</td>\n",
       "      <td>419</td>\n",
       "    </tr>\n",
       "    <tr>\n",
       "      <th>125481871</th>\n",
       "      <td>125481871</td>\n",
       "      <td>48</td>\n",
       "      <td>103665</td>\n",
       "      <td>1.0</td>\n",
       "      <td>0</td>\n",
       "      <td>419</td>\n",
       "    </tr>\n",
       "    <tr>\n",
       "      <th>125484288</th>\n",
       "      <td>125484288</td>\n",
       "      <td>49</td>\n",
       "      <td>103665</td>\n",
       "      <td>1.0</td>\n",
       "      <td>0</td>\n",
       "      <td>419</td>\n",
       "    </tr>\n",
       "    <tr>\n",
       "      <th>125486930</th>\n",
       "      <td>125486930</td>\n",
       "      <td>50</td>\n",
       "      <td>103665</td>\n",
       "      <td>3.0</td>\n",
       "      <td>0</td>\n",
       "      <td>419</td>\n",
       "    </tr>\n",
       "    <tr>\n",
       "      <th>125489310</th>\n",
       "      <td>125489310</td>\n",
       "      <td>51</td>\n",
       "      <td>103665</td>\n",
       "      <td>3.0</td>\n",
       "      <td>0</td>\n",
       "      <td>419</td>\n",
       "    </tr>\n",
       "    <tr>\n",
       "      <th>125491527</th>\n",
       "      <td>125491527</td>\n",
       "      <td>52</td>\n",
       "      <td>103665</td>\n",
       "      <td>1.0</td>\n",
       "      <td>0</td>\n",
       "      <td>419</td>\n",
       "    </tr>\n",
       "  </tbody>\n",
       "</table>\n",
       "<p>50449 rows × 6 columns</p>\n",
       "</div>"
      ],
      "text/plain": [
       "                  id  store_nbr  item_nbr  unit_sales  onpromotion  Duration\n",
       "0                  0         25    103665         7.0           -1      2103\n",
       "578              578          1    103665         2.0           -1      2102\n",
       "1596            1596          2    103665         5.0           -1      2102\n",
       "2699            2699          3    103665         6.0           -1      2102\n",
       "3900            3900          4    103665         2.0           -1      2102\n",
       "4949            4949          5    103665         9.0           -1      2102\n",
       "5984            5984          6    103665         6.0           -1      2102\n",
       "7109            7109          7    103665         4.0           -1      2102\n",
       "8187            8187          8    103665         6.0           -1      2102\n",
       "9391            9391          9    103665        12.0           -1      2102\n",
       "11088          11088         11    103665         3.0           -1      2102\n",
       "16281          16281         18    103665         3.0           -1      2102\n",
       "17871          17871         23    103665         3.0           -1      2102\n",
       "18789          18789         24    103665         6.0           -1      2102\n",
       "19811          19811         25    103665         5.0           -1      2102\n",
       "20625          20625         26    103665         1.0           -1      2102\n",
       "21400          21400         27    103665         7.0           -1      2102\n",
       "22334          22334         28    103665         3.0           -1      2102\n",
       "23741          23741         31    103665         3.0           -1      2102\n",
       "25749          25749         34    103665         2.0           -1      2102\n",
       "27139          27139         37    103665         5.0           -1      2102\n",
       "28203          28203         38    103665         6.0           -1      2102\n",
       "29181          29181         39    103665         6.0           -1      2102\n",
       "32293          32293         44    103665        20.0           -1      2102\n",
       "33547          33547         45    103665         8.0           -1      2102\n",
       "34779          34779         46    103665         7.0           -1      2102\n",
       "35958          35958         47    103665        11.0           -1      2102\n",
       "37167          37167         48    103665        10.0           -1      2102\n",
       "38289          38289         49    103665         4.0           -1      2102\n",
       "39450          39450         50    103665         6.0           -1      2102\n",
       "...              ...        ...       ...         ...          ...       ...\n",
       "125396213  125396213          2    103665         5.0            0       419\n",
       "125398301  125398301          3    103665         1.0            0       419\n",
       "125400909  125400909          4    103665         2.0            0       419\n",
       "125402925  125402925          5    103665         3.0            0       419\n",
       "125411792  125411792          9    103665         3.0            0       419\n",
       "125415321  125415321         11    103665         2.0            0       419\n",
       "125424317  125424317         17    103665         1.0            0       419\n",
       "125429455  125429455         20    103665         1.0            0       419\n",
       "125434777  125434777         23    103665         1.0            0       419\n",
       "125436452  125436452         24    103665         5.0            0       419\n",
       "125438641  125438641         25    103665         1.0            0       419\n",
       "125441389  125441389         27    103665         1.0            0       419\n",
       "125443445  125443445         28    103665         2.0            0       419\n",
       "125445417  125445417         29    103665         6.0            0       419\n",
       "125448705  125448705         31    103665         1.0            0       419\n",
       "125453056  125453056         34    103665         1.0            0       419\n",
       "125455878  125455878         36    103665         1.0            0       419\n",
       "125457737  125457737         37    103665         2.0            0       419\n",
       "125459837  125459837         38    103665         2.0            0       419\n",
       "125461840  125461840         39    103665         7.0            0       419\n",
       "125465526  125465526         41    103665         4.0            0       419\n",
       "125467420  125467420         42    103665         5.0            0       419\n",
       "125471187  125471187         44    103665         8.0            0       419\n",
       "125473879  125473879         45    103665         2.0            0       419\n",
       "125479168  125479168         47    103665         3.0            0       419\n",
       "125481871  125481871         48    103665         1.0            0       419\n",
       "125484288  125484288         49    103665         1.0            0       419\n",
       "125486930  125486930         50    103665         3.0            0       419\n",
       "125489310  125489310         51    103665         3.0            0       419\n",
       "125491527  125491527         52    103665         1.0            0       419\n",
       "\n",
       "[50449 rows x 6 columns]"
      ]
     },
     "execution_count": 94,
     "metadata": {},
     "output_type": "execute_result"
    }
   ],
   "source": [
    "subset"
   ]
  },
  {
   "cell_type": "markdown",
   "metadata": {},
   "source": [
    "# 4. Splitting Train and Test dataset"
   ]
  },
  {
   "cell_type": "code",
   "execution_count": 95,
   "metadata": {},
   "outputs": [],
   "source": [
    "X_train,X_test,y_train,y_test=train_test_split(subset.drop(['id','unit_sales'],axis=1),subset['unit_sales'],test_size=0.3)"
   ]
  },
  {
   "cell_type": "markdown",
   "metadata": {},
   "source": [
    "# 5. Classifiers"
   ]
  },
  {
   "cell_type": "markdown",
   "metadata": {},
   "source": [
    "## 5.1 Poly Regressor"
   ]
  },
  {
   "cell_type": "code",
   "execution_count": 96,
   "metadata": {},
   "outputs": [],
   "source": [
    "from sklearn.preprocessing import PolynomialFeatures\n",
    "from sklearn.linear_model import LinearRegression"
   ]
  },
  {
   "cell_type": "code",
   "execution_count": 97,
   "metadata": {},
   "outputs": [],
   "source": [
    "poly = PolynomialFeatures(degree=20)\n",
    "X_trans_train = poly.fit_transform(X_train)\n",
    "X_trans_test = poly.fit_transform(X_test)"
   ]
  },
  {
   "cell_type": "code",
   "execution_count": 98,
   "metadata": {},
   "outputs": [],
   "source": [
    "lg = LinearRegression()\n",
    "lg.fit(X_trans_train, y_train)\n",
    "pr_pred = lg.predict(X_trans_test)"
   ]
  },
  {
   "cell_type": "code",
   "execution_count": 99,
   "metadata": {},
   "outputs": [
    {
     "name": "stdout",
     "output_type": "stream",
     "text": [
      "MAE: 2.481638803220559\n",
      "MSE: 11.826742746000667\n",
      "RMSE: 3.4390031616735492\n"
     ]
    }
   ],
   "source": [
    "from sklearn import metrics\n",
    "print('MAE:', metrics.mean_absolute_error(y_test,pr_pred))\n",
    "print('MSE:', metrics.mean_squared_error(y_test, pr_pred))\n",
    "print('RMSE:', np.sqrt(metrics.mean_squared_error(y_test, pr_pred)))"
   ]
  },
  {
   "cell_type": "code",
   "execution_count": 100,
   "metadata": {},
   "outputs": [
    {
     "data": {
      "text/plain": [
       "<matplotlib.axes._subplots.AxesSubplot at 0x1a1840cc18>"
      ]
     },
     "execution_count": 100,
     "metadata": {},
     "output_type": "execute_result"
    },
    {
     "data": {
      "image/png": "[encoded data removed]",
      "text/plain": [
       "<Figure size 1440x720 with 1 Axes>"
      ]
     },
     "metadata": {},
     "output_type": "display_data"
    }
   ],
   "source": [
    "sns.regplot(x=y_test, y=pr_pred, data=subset)"
   ]
  },
  {
   "cell_type": "markdown",
   "metadata": {},
   "source": [
    "## 5.2 Random Regressor"
   ]
  },
  {
   "cell_type": "code",
   "execution_count": 59,
   "metadata": {},
   "outputs": [],
   "source": [
    "from sklearn.ensemble import RandomForestRegressor\n",
    "lm = RandomForestRegressor(n_estimators=20)\n",
    "lm.fit(X_train, y_train)\n",
    "lm_predict = lm.predict(X_test)"
   ]
  },
  {
   "cell_type": "code",
   "execution_count": 60,
   "metadata": {},
   "outputs": [
    {
     "name": "stdout",
     "output_type": "stream",
     "text": [
      "MAE: 2.5660919187628806\n",
      "MSE: 13.329427975879593\n",
      "RMSE: 3.6509489144439686\n"
     ]
    }
   ],
   "source": [
    "from sklearn import metrics\n",
    "print('MAE:', metrics.mean_absolute_error(y_test,lm_predict))\n",
    "print('MSE:', metrics.mean_squared_error(y_test, lm_predict))\n",
    "print('RMSE:', np.sqrt(metrics.mean_squared_error(y_test, lm_predict)))"
   ]
  },
  {
   "cell_type": "code",
   "execution_count": 61,
   "metadata": {},
   "outputs": [
    {
     "data": {
      "text/plain": [
       "<matplotlib.axes._subplots.AxesSubplot at 0x1a1c285e10>"
      ]
     },
     "execution_count": 61,
     "metadata": {},
     "output_type": "execute_result"
    },
    {
     "data": {
      "image/png": "[encoded data removed]",
      "text/plain": [
       "<Figure size 1440x720 with 1 Axes>"
      ]
     },
     "metadata": {},
     "output_type": "display_data"
    }
   ],
   "source": [
    "sns.regplot(x=y_test, y=lm_predict, data=subset)"
   ]
  },
  {
   "cell_type": "markdown",
   "metadata": {},
   "source": [
    "## 5.3 KernelRidge Regressor"
   ]
  },
  {
   "cell_type": "code",
   "execution_count": 34,
   "metadata": {},
   "outputs": [],
   "source": [
    "from sklearn.kernel_ridge import KernelRidge"
   ]
  },
  {
   "cell_type": "code",
   "execution_count": 35,
   "metadata": {},
   "outputs": [],
   "source": [
    "kr = KernelRidge(alpha=1.0)\n",
    "kr.fit(X_train, y_train)\n",
    "kr_predict = kr.predict(X_test)"
   ]
  },
  {
   "cell_type": "code",
   "execution_count": 36,
   "metadata": {},
   "outputs": [
    {
     "name": "stdout",
     "output_type": "stream",
     "text": [
      "MAE: 2.4798616441461983\n",
      "MSE: 12.183636800142732\n",
      "RMSE: 3.490506668113203\n"
     ]
    }
   ],
   "source": [
    "print('MAE:', metrics.mean_absolute_error(y_test, kr_predict))\n",
    "print('MSE:', metrics.mean_squared_error(y_test, kr_predict))\n",
    "print('RMSE:', np.sqrt(metrics.mean_squared_error(y_test, kr_predict)))"
   ]
  },
  {
   "cell_type": "code",
   "execution_count": 37,
   "metadata": {},
   "outputs": [
    {
     "data": {
      "text/plain": [
       "<matplotlib.axes._subplots.AxesSubplot at 0x1a2fa6dac8>"
      ]
     },
     "execution_count": 37,
     "metadata": {},
     "output_type": "execute_result"
    },
    {
     "data": {
      "image/png": "[encoded data removed]",
      "text/plain": [
       "<Figure size 1440x720 with 1 Axes>"
      ]
     },
     "metadata": {},
     "output_type": "display_data"
    }
   ],
   "source": [
    "sns.regplot(x=y_test, y=kr_predict, data=subset)"
   ]
  },
  {
   "cell_type": "markdown",
   "metadata": {},
   "source": [
    "## Predicting output according to GUI input"
   ]
  },
  {
   "cell_type": "code",
   "execution_count": 66,
   "metadata": {},
   "outputs": [
    {
     "name": "stderr",
     "output_type": "stream",
     "text": [
      "/anaconda3/lib/python3.6/site-packages/ipykernel_launcher.py:1: SettingWithCopyWarning: \n",
      "A value is trying to be set on a copy of a slice from a DataFrame.\n",
      "Try using .loc[row_indexer,col_indexer] = value instead\n",
      "\n",
      "See the caveats in the documentation: http://pandas.pydata.org/pandas-docs/stable/indexing.html#indexing-view-versus-copy\n",
      "  \"\"\"Entry point for launching an IPython kernel.\n"
     ]
    }
   ],
   "source": [
    "subset['minmax_unitsales']=(subset['unit_sales']-subset['unit_sales'].min())/(subset['unit_sales'].max()-subset['unit_sales'].min())"
   ]
  },
  {
   "cell_type": "code",
   "execution_count": 68,
   "metadata": {},
   "outputs": [
    {
     "name": "stderr",
     "output_type": "stream",
     "text": [
      "/anaconda3/lib/python3.6/site-packages/matplotlib/axes/_axes.py:6462: UserWarning: The 'normed' kwarg is deprecated, and has been replaced by the 'density' kwarg.\n",
      "  warnings.warn(\"The 'normed' kwarg is deprecated, and has been \"\n"
     ]
    },
    {
     "data": {
      "text/plain": [
       "<matplotlib.axes._subplots.AxesSubplot at 0x1a2e26fbe0>"
      ]
     },
     "execution_count": 68,
     "metadata": {},
     "output_type": "execute_result"
    },
    {
     "data": {
      "image/png": "[encoded data removed]",
      "text/plain": [
       "<Figure size 1440x720 with 1 Axes>"
      ]
     },
     "metadata": {},
     "output_type": "display_data"
    }
   ],
   "source": [
    "sns.distplot(subset['minmax_unitsales'])"
   ]
  },
  {
   "cell_type": "code",
   "execution_count": null,
   "metadata": {},
   "outputs": [],
   "source": []
  }
 ],
 "metadata": {
  "kernelspec": {
   "display_name": "Python 3",
   "language": "python",
   "name": "python3"
  },
  "language_info": {
   "codemirror_mode": {
    "name": "ipython",
    "version": 3
   },
   "file_extension": ".py",
   "mimetype": "text/x-python",
   "name": "python",
   "nbconvert_exporter": "python",
   "pygments_lexer": "ipython3",
   "version": "3.6.4"
  }
 },
 "nbformat": 4,
 "nbformat_minor": 2
}
